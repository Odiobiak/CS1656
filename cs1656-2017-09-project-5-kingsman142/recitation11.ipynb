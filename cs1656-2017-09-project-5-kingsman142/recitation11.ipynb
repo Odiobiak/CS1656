{
 "cells": [
  {
   "cell_type": "markdown",
   "metadata": {},
   "source": [
    "# CS 1656 – Introduction to Data Science \n",
    "\n",
    "## Instructor: Alexandros Labrinidis / Teaching Assistant: Phuong Pham\n",
    "### Additional credits: Zuha Agha, Anatoli Shein\n",
    "\n",
    "## Recitation 11: Cypher+Neo4j+Python\n",
    "---\n",
    "In this recitation, we will query a Neo4j graph database using with Cypher language and Python.\n",
    "\n",
    "Neo4j is a highly scalable, native graph database purpose-built to leverage not only data but also its relationships.\n",
    "\n",
    "Cypher is a declarative graph query language that allows for expressive and efficient querying and updating of the graph store."
   ]
  },
  {
   "cell_type": "code",
   "execution_count": 1,
   "metadata": {},
   "outputs": [],
   "source": [
    "from neo4j.v1 import GraphDatabase\n",
    "\n",
    "#Connect to the database\n",
    "driver = GraphDatabase.driver(\"bolt://localhost\", encrypted=False)\n",
    "\n",
    "#Start new session\n",
    "session = driver.session()\n",
    "\n",
    "#Start new transaction\n",
    "transaction = session.begin_transaction()"
   ]
  },
  {
   "cell_type": "markdown",
   "metadata": {},
   "source": [
    "### Queries\n",
    "__Q1) List any 10 actor names.__"
   ]
  },
  {
   "cell_type": "code",
   "execution_count": 2,
   "metadata": {
    "scrolled": true
   },
   "outputs": [
    {
     "name": "stdout",
     "output_type": "stream",
     "text": [
      "<Record people.name='Sam Worthington'>\n",
      "<Record people.name='Zoe Saldana'>\n",
      "<Record people.name='Sigourney Weaver'>\n",
      "<Record people.name='Stephen Lang'>\n",
      "<Record people.name='Michelle Rodriguez'>\n",
      "<Record people.name='Joel Moore'>\n",
      "<Record people.name='Giovanni Ribisi'>\n",
      "<Record people.name='CCH Pounder'>\n",
      "<Record people.name='Laz Alonso'>\n",
      "<Record people.name='Wes Studi'>\n"
     ]
    }
   ],
   "source": [
    "result = transaction.run(\"\"\"\n",
    "MATCH (people:Actor)\n",
    "RETURN people.name\n",
    "LIMIT 10\n",
    ";\"\"\")\n",
    "for record in result:\n",
    "    print (record)"
   ]
  },
  {
   "cell_type": "markdown",
   "metadata": {},
   "source": [
    "__Q2) List any 10 movie titles.__"
   ]
  },
  {
   "cell_type": "code",
   "execution_count": 3,
   "metadata": {},
   "outputs": [
    {
     "name": "stdout",
     "output_type": "stream",
     "text": [
      "<Record m.title='Avatar'>\n",
      "<Record m.title='Amélie'>\n",
      "<Record m.title='Full Metal Jacket'>\n",
      "<Record m.title='E.T.: The Extra-Terrestrial'>\n",
      "<Record m.title='Independence Day'>\n",
      "<Record m.title='The Matrix'>\n",
      "<Record m.title='The Matrix Reloaded'>\n",
      "<Record m.title='The Matrix Revolutions'>\n",
      "<Record m.title='Out of Africa'>\n",
      "<Record m.title='Men In Black'>\n"
     ]
    }
   ],
   "source": [
    "result = transaction.run(\"\"\"\n",
    "MATCH (m:Movie)\n",
    "RETURN m.title\n",
    "LIMIT 10\n",
    ";\"\"\")\n",
    "for record in result:\n",
    "    print (record)"
   ]
  },
  {
   "cell_type": "markdown",
   "metadata": {},
   "source": [
    "__Q3) List all actors in 'The Matrix' movie.__"
   ]
  },
  {
   "cell_type": "code",
   "execution_count": 4,
   "metadata": {},
   "outputs": [
    {
     "name": "stdout",
     "output_type": "stream",
     "text": [
      "<Record a.name='Marc Aden'>\n",
      "<Record a.name='David Aston'>\n",
      "<Record a.name='Paul Goddard'>\n",
      "<Record a.name='Anthony Ray Parker'>\n",
      "<Record a.name='Matt Doran'>\n",
      "<Record a.name='Joe Pantoliano'>\n",
      "<Record a.name='Belinda McClory'>\n",
      "<Record a.name='Julian Arahanga'>\n",
      "<Record a.name='Gloria Foster'>\n",
      "<Record a.name='Marcus Chong'>\n",
      "<Record a.name='Hugo Weaving'>\n",
      "<Record a.name='Laurence Fishburne'>\n",
      "<Record a.name='Carrie-Anne Moss'>\n",
      "<Record a.name='Keanu Reeves'>\n"
     ]
    }
   ],
   "source": [
    "result = transaction.run(\"\"\"\n",
    "MATCH (m:Movie {title: 'The Matrix'})<-[:ACTS_IN]-(a:Actor)\n",
    "RETURN a.name\n",
    ";\"\"\")\n",
    "for record in result:\n",
    "    print (record)"
   ]
  },
  {
   "cell_type": "markdown",
   "metadata": {},
   "source": [
    "__Q4) List all actors who are also directors.__"
   ]
  },
  {
   "cell_type": "code",
   "execution_count": 5,
   "metadata": {},
   "outputs": [
    {
     "name": "stdout",
     "output_type": "stream",
     "text": [
      "<Record a.name='Leonard Nimoy'>\n",
      "<Record a.name='Jonathan Frakes'>\n",
      "<Record a.name='Peter Jackson'>\n",
      "<Record a.name='Quentin Tarantino'>\n",
      "<Record a.name='Andrew Stanton'>\n",
      "<Record a.name='Orson Welles'>\n",
      "<Record a.name='Clint Eastwood'>\n",
      "<Record a.name='Terry Gilliam'>\n",
      "<Record a.name='Guy Ritchie'>\n",
      "<Record a.name='Kim Ki-Duk'>\n",
      "<Record a.name='David  Maysles'>\n",
      "<Record a.name='Albert Maysles'>\n",
      "<Record a.name='William Shatner'>\n",
      "<Record a.name='Mel Gibson'>\n",
      "<Record a.name='Rainer Werner Fassbinder'>\n",
      "<Record a.name='Alfred Hitchcock'>\n",
      "<Record a.name='Takeshi Kitano'>\n",
      "<Record a.name='Danny DeVito'>\n",
      "<Record a.name='François Truffaut'>\n",
      "<Record a.name='Jean-Luc Godard'>\n",
      "<Record a.name='Thomas Vinterberg'>\n",
      "<Record a.name='Steven Spielberg'>\n",
      "<Record a.name='Peter Thorwarth'>\n",
      "<Record a.name='Zach Braff'>\n",
      "<Record a.name='Mathieu Kassovitz'>\n",
      "<Record a.name='Jacques Tati'>\n",
      "<Record a.name='Spike Jonze'>\n",
      "<Record a.name='Woody Allen'>\n",
      "<Record a.name='John Landis'>\n",
      "<Record a.name='Robert Redford'>\n",
      "<Record a.name='Kevin Costner'>\n",
      "<Record a.name='Terry Jones'>\n",
      "<Record a.name='Dennis Hopper'>\n",
      "<Record a.name='Luis Buñuel'>\n",
      "<Record a.name='Roberto Benigni'>\n",
      "<Record a.name='Leni Riefenstahl'>\n",
      "<Record a.name='Buster Keaton'>\n",
      "<Record a.name='Sam Raimi'>\n",
      "<Record a.name='Georges Méliès'>\n",
      "<Record a.name='Jean Renoir'>\n",
      "<Record a.name='Jiří Menzel'>\n",
      "<Record a.name='Oliver Stone'>\n",
      "<Record a.name='Conrad Vernon'>\n",
      "<Record a.name='Jim Abrahams'>\n",
      "<Record a.name='Roman Polanski'>\n",
      "<Record a.name='Gene Kelly'>\n",
      "<Record a.name='Charlie Chaplin'>\n",
      "<Record a.name='Spike Lee'>\n",
      "<Record a.name='Jules Dassin'>\n",
      "<Record a.name='Mel Brooks'>\n",
      "<Record a.name='Sylvester Stallone'>\n",
      "<Record a.name='Robert De Niro'>\n",
      "<Record a.name='Carsten Strauch'>\n",
      "<Record a.name='Santiago Segura'>\n",
      "<Record a.name='Jeroen Krabbé'>\n",
      "<Record a.name='Miranda July'>\n",
      "<Record a.name='Claude Lelouch'>\n",
      "<Record a.name='Michael Moore'>\n",
      "<Record a.name='Jonathan Caouette'>\n",
      "<Record a.name='Rozz Williams'>\n",
      "<Record a.name='Helge Schneider'>\n",
      "<Record a.name='Alfred Vohrer'>\n",
      "<Record a.name='Rob Reiner'>\n",
      "<Record a.name='Paul Hough'>\n",
      "<Record a.name='Kevin Smith'>\n",
      "<Record a.name='Marina de Van'>\n",
      "<Record a.name='Robert Montgomery'>\n",
      "<Record a.name='Julie Delpy'>\n",
      "<Record a.name='Sergio M. Castilla'>\n",
      "<Record a.name='Hans Weingartner'>\n",
      "<Record a.name='David Lynch'>\n",
      "<Record a.name='Bruce Campbell'>\n",
      "<Record a.name='Sunny Abberton'>\n",
      "<Record a.name='Catherine Breillat'>\n",
      "<Record a.name='Matthew Broderick'>\n",
      "<Record a.name='Doris Dörrie'>\n",
      "<Record a.name='Nicolas Winding Refn'>\n",
      "<Record a.name='Peter Zingler'>\n",
      "<Record a.name='Rolf Römer'>\n",
      "<Record a.name='Bruno Podalydès'>\n",
      "<Record a.name='Maurice Pialat'>\n",
      "<Record a.name='Armin Mueller-Stahl'>\n",
      "<Record a.name='René Féret'>\n",
      "<Record a.name='Didier Kaminka'>\n",
      "<Record a.name='Jacques Faber'>\n",
      "<Record a.name='John Huston'>\n",
      "<Record a.name='Icíar Bollaín'>\n",
      "<Record a.name='Gérard Jugnot'>\n",
      "<Record a.name='Patrick Laferl'>\n",
      "<Record a.name='Bonnie Hunt'>\n",
      "<Record a.name='Mike Figgis'>\n",
      "<Record a.name='Mark Pellington'>\n",
      "<Record a.name='Eric Tsang'>\n",
      "<Record a.name='Jean Meyer'>\n",
      "<Record a.name='M. Night Shyamalan'>\n",
      "<Record a.name='Roger Young'>\n",
      "<Record a.name='Florian Schönbauer'>\n",
      "<Record a.name='Uwe Boll'>\n",
      "<Record a.name='Alex van Warmerdam'>\n",
      "<Record a.name='Ben Stiller'>\n",
      "<Record a.name='Alexander Bandilla'>\n",
      "<Record a.name='Stephan Schoenholtz'>\n",
      "<Record a.name='Andre Schneider'>\n",
      "<Record a.name='Robert Duvall'>\n",
      "<Record a.name='Takashi Miike'>\n",
      "<Record a.name='Alain Chabat'>\n",
      "<Record a.name='Joseph Klein'>\n",
      "<Record a.name='Paul Wegener'>\n",
      "<Record a.name='George Montgomery'>\n",
      "<Record a.name='Noel Marshall'>\n",
      "<Record a.name='William Vance'>\n",
      "<Record a.name='Abel Gance'>\n",
      "<Record a.name='Kenneth Branagh'>\n",
      "<Record a.name='Jim Mallon'>\n",
      "<Record a.name='Martin Scorsese'>\n",
      "<Record a.name='Jesus Franco'>\n",
      "<Record a.name='Mike Judge'>\n",
      "<Record a.name='Marty Allen'>\n",
      "<Record a.name='John Bacchus'>\n",
      "<Record a.name='George Clooney'>\n",
      "<Record a.name='Scott Shaw'>\n",
      "<Record a.name='William Winckler'>\n",
      "<Record a.name='Richard Harris'>\n",
      "<Record a.name='Florian Hainfellner'>\n",
      "<Record a.name='Jan Luttenberger'>\n",
      "<Record a.name='Peter Sellers'>\n",
      "<Record a.name='Ingo J. Biermann'>\n",
      "<Record a.name='Rosa von Praunheim'>\n",
      "<Record a.name='Rolf Olsen'>\n",
      "<Record a.name='Fatih Akin'>\n",
      "<Record a.name='Dr. Harlan Tarbell'>\n",
      "<Record a.name='Ben Turpin'>\n",
      "<Record a.name='Justus von Dohnanyi'>\n",
      "<Record a.name='Trey Parker'>\n",
      "<Record a.name='Wes Craven'>\n",
      "<Record a.name='John Paul Fedele'>\n",
      "<Record a.name='Josiane Balasko'>\n",
      "<Record a.name='Hark Bohm'>\n",
      "<Record a.name='Michael Herbig'>\n",
      "<Record a.name='Peter Fleischmann'>\n",
      "<Record a.name='Pedro Almodóvar'>\n",
      "<Record a.name='Kevin Lima'>\n",
      "<Record a.name='Rudolf Zehetgruber'>\n",
      "<Record a.name='Gianfranco Parolini'>\n",
      "<Record a.name='Edgar Wright'>\n",
      "<Record a.name='Vicco von Bülow'>\n",
      "<Record a.name='Jean-Louis Trintignant'>\n",
      "<Record a.name='Pierre Grasset'>\n",
      "<Record a.name='L.Q. Jones'>\n",
      "<Record a.name='Edward Norton'>\n",
      "<Record a.name='Satoshi Kon'>\n",
      "<Record a.name='Angela Schanelec'>\n",
      "<Record a.name='Shai Carmeli-Pollak'>\n",
      "<Record a.name='Lars von Trier'>\n",
      "<Record a.name='Zalman King'>\n",
      "<Record a.name='Peter Ustinov'>\n",
      "<Record a.name='Leander Haußmann'>\n",
      "<Record a.name='Roger Christian'>\n",
      "<Record a.name='Russ Meyer'>\n",
      "<Record a.name='Claude Chabrol'>\n",
      "<Record a.name='Herb Robins'>\n",
      "<Record a.name='Pier Paolo Pasolini'>\n",
      "<Record a.name='Peter Horton'>\n",
      "<Record a.name='Piet Fuchs'>\n",
      "<Record a.name='Elizabeth Starr'>\n",
      "<Record a.name='Dirk Shafer'>\n",
      "<Record a.name='Carlos Tobalina'>\n",
      "<Record a.name='I. Robert Levy'>\n",
      "<Record a.name='Mario Van Peebles'>\n",
      "<Record a.name='Heiner Lauterbach'>\n",
      "<Record a.name='Mark Keller'>\n",
      "<Record a.name='Jürgen Roland'>\n",
      "<Record a.name='Georg Einerdinger'>\n",
      "<Record a.name='Ted Gaier'>\n",
      "<Record a.name='Gene Wilder'>\n",
      "<Record a.name='Elis Ellis'>\n",
      "<Record a.name='Til Schweiger'>\n",
      "<Record a.name='Guy Hamilton'>\n",
      "<Record a.name='Lee Stanley'>\n",
      "<Record a.name='Anthony Hickox'>\n",
      "<Record a.name='Valeria Bruni Tedeschi'>\n",
      "<Record a.name='Walter Bockmayer'>\n",
      "<Record a.name='Werner Herzog'>\n",
      "<Record a.name='Kevin Spacey'>\n",
      "<Record a.name='Detlev Buck'>\n",
      "<Record a.name='Laurens Straub'>\n",
      "<Record a.name='Joe Stöckel'>\n",
      "<Record a.name='Ronit Elkabetz'>\n",
      "<Record a.name='Niu Chengze'>\n",
      "<Record a.name='Stefan Kluge'>\n",
      "<Record a.name='David Schmoeller'>\n",
      "<Record a.name='Katt Shea'>\n",
      "<Record a.name='Aamir Khan'>\n",
      "<Record a.name='Ralf Gregan'>\n",
      "<Record a.name='Nadine Labaki'>\n",
      "<Record a.name='Aki Kaurismäki'>\n",
      "<Record a.name='Tommy Lee Jones'>\n",
      "<Record a.name='Thomas Haemmerli'>\n",
      "<Record a.name='Hardi Sturm'>\n",
      "<Record a.name='Dany Boon'>\n",
      "<Record a.name='Alejandro Jodorowsky'>\n",
      "<Record a.name='Zabou Breitman'>\n",
      "<Record a.name='Steve Buscemi'>\n",
      "<Record a.name='Michel Blanc'>\n",
      "<Record a.name='Warren Beatty'>\n",
      "<Record a.name='Franco Fantasia'>\n",
      "<Record a.name='Jackie Chan'>\n",
      "<Record a.name='Chris Carter'>\n",
      "<Record a.name='Charles S. Dutton'>\n",
      "<Record a.name='Ari Folman'>\n",
      "<Record a.name='Michael Bay'>\n",
      "<Record a.name='Eddie Murphy'>\n",
      "<Record a.name='Jean-Claude Van Damme'>\n",
      "<Record a.name='Otto Waalkes'>\n",
      "<Record a.name='Terence Hill'>\n",
      "<Record a.name='Morgan Spurlock'>\n",
      "<Record a.name='Hardy Martins'>\n",
      "<Record a.name='Carl Reiner'>\n",
      "<Record a.name='Bruce Lee'>\n",
      "<Record a.name='Vincent Gallo'>\n",
      "<Record a.name='Stephen Chow'>\n",
      "<Record a.name='Tom Gerhardt'>\n",
      "<Record a.name='Alex Jones'>\n",
      "<Record a.name='Tom Hanks'>\n",
      "<Record a.name='Ulli Lommel'>\n",
      "<Record a.name='Gary Sinise'>\n",
      "<Record a.name='Steven Seagal'>\n",
      "<Record a.name='Andy Garcia'>\n",
      "<Record a.name='Adam McKay'>\n",
      "<Record a.name='Chris Rock'>\n",
      "<Record a.name='Mike Binder'>\n",
      "<Record a.name='Bob Odenkirk'>\n",
      "<Record a.name='Charles Winkler'>\n",
      "<Record a.name='David Arquette'>\n",
      "<Record a.name='Emmanuel Goldstein'>\n",
      "<Record a.name='Steve Oedekerk'>\n",
      "<Record a.name='Jim Wynorski'>\n",
      "<Record a.name='Johnny Depp'>\n",
      "<Record a.name='Mark Dindal'>\n",
      "<Record a.name='Gerhard Polt'>\n",
      "<Record a.name='Jay Chandrasekhar'>\n",
      "<Record a.name='Yahoo Serious'>\n",
      "<Record a.name='James M. Hausler'>\n",
      "<Record a.name='Sammo Hung Kam-Bo'>\n",
      "<Record a.name='Jan Kounen'>\n",
      "<Record a.name='Robert Ben Garant'>\n",
      "<Record a.name='Jon Favreau'>\n",
      "<Record a.name='William H. Macy'>\n",
      "<Record a.name='Emilio Estevez'>\n",
      "<Record a.name='Jenö Hodi'>\n",
      "<Record a.name='Barbra Streisand'>\n",
      "<Record a.name=\"Tony D'Angelo\">\n",
      "<Record a.name='Eric Schaeffer'>\n",
      "<Record a.name='George A. Romero'>\n",
      "<Record a.name='Diane Keaton'>\n",
      "<Record a.name='Ezio Greggio'>\n",
      "<Record a.name='Edward D. Wood Jr.'>\n",
      "<Record a.name='Sophie Marceau'>\n",
      "<Record a.name='Billy Crystal'>\n",
      "<Record a.name='Emmanuel Mouret'>\n",
      "<Record a.name='F. Gary Gray'>\n",
      "<Record a.name='Henrik Galeen'>\n",
      "<Record a.name='Agnès Jaoui'>\n",
      "<Record a.name='Bill Murray'>\n",
      "<Record a.name='Adrienne Shelly'>\n",
      "<Record a.name='Guillaume Canet'>\n",
      "<Record a.name='Hape Kerkeling'>\n",
      "<Record a.name='Wim Wenders'>\n",
      "<Record a.name='Mimmo Calopresti'>\n",
      "<Record a.name='Nicolas Philibert'>\n",
      "<Record a.name='Dieter Hallervorden'>\n",
      "<Record a.name='John Wayne'>\n",
      "<Record a.name='Robert Townsend'>\n",
      "<Record a.name='Christian Genzel'>\n",
      "<Record a.name='James Hanlon'>\n",
      "<Record a.name='Edward Burns'>\n",
      "<Record a.name='Nanni Moretti'>\n",
      "<Record a.name='Jodie Foster'>\n",
      "<Record a.name='Chris Sanders'>\n",
      "<Record a.name='Jim Henson'>\n",
      "<Record a.name='Frank Oz'>\n",
      "<Record a.name='Louis de Funès'>\n",
      "<Record a.name='John Woo'>\n",
      "<Record a.name='Dan Aykroyd'>\n",
      "<Record a.name='Bill Paxton'>\n",
      "<Record a.name='Steven St. Croix'>\n",
      "<Record a.name='Luke Wilson'>\n",
      "<Record a.name='Albert Brooks'>\n",
      "<Record a.name='Gustave de Kervern'>\n",
      "<Record a.name='Benoît Delépine'>\n",
      "<Record a.name='Lena Knauder'>\n",
      "<Record a.name='Serge Moati'>\n",
      "<Record a.name='Lionel Baier'>\n",
      "<Record a.name='Xavier Beauvois'>\n",
      "<Record a.name='Jørgen Leth'>\n",
      "<Record a.name='Billy Bob Thornton'>\n",
      "<Record a.name='Ed Harris'>\n",
      "<Record a.name='Bernhard Grzimek'>\n",
      "<Record a.name='Natalie Portman'>\n",
      "<Record a.name='Katja Rupé'>\n",
      "<Record a.name='Sydney Pollack'>\n",
      "<Record a.name='Anthony Perkins'>\n",
      "<Record a.name='Tommy Chong'>\n",
      "<Record a.name='Errol Morris'>\n",
      "<Record a.name='Pierre Sanoussi-Bliss'>\n",
      "<Record a.name='Daniel Schweizer'>\n",
      "<Record a.name='James Merendino'>\n",
      "<Record a.name='Dave Thomas'>\n",
      "<Record a.name='Rick Moranis'>\n",
      "<Record a.name='Doug Sweetland'>\n",
      "<Record a.name='Amber Benson'>\n",
      "<Record a.name='Jim Capobianco'>\n",
      "<Record a.name='Bud Luckey'>\n",
      "<Record a.name='Jeff Garlin'>\n",
      "<Record a.name=\"Cam'ron\">\n",
      "<Record a.name='Olaf Ittenbach'>\n",
      "<Record a.name='Paul Dinello'>\n",
      "<Record a.name='Dave Willis'>\n",
      "<Record a.name='Rob Schneider'>\n",
      "<Record a.name='Tom Green'>\n",
      "<Record a.name='Michael Showalter'>\n",
      "<Record a.name='Aaron Russo'>\n",
      "<Record a.name='Bill Melendez'>\n",
      "<Record a.name='Helen Hunt'>\n",
      "<Record a.name='Edward James Olmos'>\n",
      "<Record a.name='Chris Waitt'>\n",
      "<Record a.name='Paul Bartel'>\n",
      "<Record a.name='Cem Yılmaz'>\n",
      "<Record a.name='Larry Bishop'>\n",
      "<Record a.name='Jeff Lau Chun-Wai'>\n",
      "<Record a.name='Christopher Guest'>\n",
      "<Record a.name='Gary Trousdale'>\n",
      "<Record a.name='John Cameron Mitchell'>\n",
      "<Record a.name='DJ Pooh'>\n",
      "<Record a.name='Damon Dash'>\n",
      "<Record a.name='Angus MacLane'>\n",
      "<Record a.name='Denzel Washington'>\n",
      "<Record a.name='Jody Hill'>\n",
      "<Record a.name='Mick Garris'>\n",
      "<Record a.name='Abel Ferrara'>\n",
      "<Record a.name='Paul Gagné'>\n",
      "<Record a.name='Kenny Ortega'>\n",
      "<Record a.name='Fredrik Lindström'>\n",
      "<Record a.name='Felix Herngren'>\n",
      "<Record a.name='Rick Rosenthal'>\n",
      "<Record a.name='Chris Bell'>\n",
      "<Record a.name='Bernard Rose'>\n",
      "<Record a.name='James Foley'>\n",
      "<Record a.name='Dolph Lundgren'>\n",
      "<Record a.name='Philippe Harel'>\n",
      "<Record a.name='Jean-Paul Rouve'>\n",
      "<Record a.name='Ramzy Bedia'>\n",
      "<Record a.name='Eric Judor'>\n",
      "<Record a.name='Nick Broomfield'>\n",
      "<Record a.name='Ralph Eggleston'>\n",
      "<Record a.name='Evan Coyne Maloney'>\n",
      "<Record a.name='Clark Gregg'>\n",
      "<Record a.name='Lloyd Kaufman'>\n",
      "<Record a.name='Tim Matheson'>\n",
      "<Record a.name='Wayne Coyne'>\n",
      "<Record a.name='Fyodor Bondarchuk'>\n",
      "<Record a.name='Bob Peterson'>\n",
      "<Record a.name='Steve James'>\n",
      "<Record a.name='Amir Bar-Lev'>\n",
      "<Record a.name='Mars Callahan'>\n",
      "<Record a.name='Shane Carruth'>\n",
      "<Record a.name='Karan Johar'>\n",
      "<Record a.name='Francis Huster'>\n",
      "<Record a.name='Antoine de Maximy'>\n",
      "<Record a.name='Tak Sakaguchi'>\n",
      "<Record a.name='Paul Gross'>\n",
      "<Record a.name='Adam Rifkin'>\n",
      "<Record a.name='Yvan Attal'>\n",
      "<Record a.name='Burt Reynolds'>\n",
      "<Record a.name='Maïwenn Le Besco'>\n",
      "<Record a.name='Pierre-François Martin-Laval'>\n",
      "<Record a.name='Marianna Palka'>\n",
      "<Record a.name='Scott Caan'>\n",
      "<Record a.name='Sandy Harbutt'>\n",
      "<Record a.name='Bouli Lanners'>\n",
      "<Record a.name='Paul Provenza'>\n",
      "<Record a.name='James Franco'>\n",
      "<Record a.name='Tyler Perry'>\n",
      "<Record a.name='John De Bello'>\n",
      "<Record a.name='Timo Vuorensola'>\n",
      "<Record a.name='Dane Cook'>\n",
      "<Record a.name='Anjelica Huston'>\n",
      "<Record a.name='Paul Fenech'>\n",
      "<Record a.name='Scott Prendergast'>\n",
      "<Record a.name='Carmelo Bene'>\n",
      "<Record a.name='Clifton Powell'>\n",
      "<Record a.name='Marco Filiberti'>\n",
      "<Record a.name='Jet Li'>\n",
      "<Record a.name='Jerry Lewis'>\n",
      "<Record a.name='Jack Fletcher'>\n",
      "<Record a.name='Lasse Åberg'>\n",
      "<Record a.name='Cheung-Yan Yuen'>\n",
      "<Record a.name='Patrik Ersgård'>\n",
      "<Record a.name='Paco Cabezas'>\n",
      "<Record a.name='Herk Harvey'>\n",
      "<Record a.name='C. Thomas Howell'>\n",
      "<Record a.name='Don McKellar'>\n",
      "<Record a.name='Tim Alexander'>\n",
      "<Record a.name='H.B. Halicki'>\n",
      "<Record a.name='Mario Barth'>\n",
      "<Record a.name='Matt Cooper'>\n",
      "<Record a.name='Tony Jaa'>\n",
      "<Record a.name='Eric Idle'>\n",
      "<Record a.name='Leon Schuster'>\n",
      "<Record a.name='Leslie Howard'>\n",
      "<Record a.name='Matt Stone'>\n",
      "<Record a.name='Scott Coffey'>\n",
      "<Record a.name='Rodolfo Riva Palacio Alatriste'>\n",
      "<Record a.name='Gabriel Riva Palacio Alatriste'>\n",
      "<Record a.name='Les Claypool'>\n",
      "<Record a.name='Sam Dunn'>\n",
      "<Record a.name='Keenen Ivory Wayans'>\n",
      "<Record a.name='Craig Chester'>\n",
      "<Record a.name='Tage Danielsson'>\n",
      "<Record a.name='Bruce Sinofsky'>\n",
      "<Record a.name='Joe Berlinger'>\n",
      "<Record a.name='Caleb Emerson'>\n",
      "<Record a.name='Chris Stapp'>\n",
      "<Record a.name='Peter Gimbel'>\n",
      "<Record a.name='Tommy Wiseau'>\n",
      "<Record a.name='Caveh Zahedi'>\n",
      "<Record a.name='Gianni Di Gregorio'>\n",
      "<Record a.name='M. dot Strange'>\n",
      "<Record a.name='Corey Yuen Kwai'>\n",
      "<Record a.name='John Carpenter'>\n",
      "<Record a.name='Anders Matthesen'>\n",
      "<Record a.name='Leslie Small'>\n",
      "<Record a.name='Ray Burdis'>\n",
      "<Record a.name='Dominic Anciano'>\n",
      "<Record a.name='Thomas Edward Seymour'>\n",
      "<Record a.name='Abby Epstein'>\n",
      "<Record a.name='Tim Russ'>\n",
      "<Record a.name='isabelle doval'>\n",
      "<Record a.name='Bernard Campan'>\n",
      "<Record a.name='Didier Bourdon'>\n",
      "<Record a.name='Luc Picard'>\n",
      "<Record a.name='Kaige Chen'>\n",
      "<Record a.name='Mike Bonanno'>\n",
      "<Record a.name='Andy Bichlbaum'>\n",
      "<Record a.name='Aksel Hennie'>\n",
      "<Record a.name='David Hewlett'>\n",
      "<Record a.name='Anthony Hopkins'>\n",
      "<Record a.name='Eric Sykes'>\n",
      "<Record a.name='Brett Leonard'>\n",
      "<Record a.name='William Peter Blatty'>\n",
      "<Record a.name='Alan Alda'>\n",
      "<Record a.name='Alex Kendrick'>\n",
      "<Record a.name='Gad Elmaleh'>\n",
      "<Record a.name='Vin Diesel'>\n",
      "<Record a.name='Kevin Tenney'>\n",
      "<Record a.name='Chia-Liang Liu'>\n",
      "<Record a.name=\"D'Urville Martin\">\n",
      "<Record a.name='William Gazecki'>\n",
      "<Record a.name='Cheech Marin'>\n",
      "<Record a.name='Peter Bogdanovich'>\n",
      "<Record a.name='Trevor Moore'>\n",
      "<Record a.name='Zach Cregger'>\n",
      "<Record a.name='Stéphane Giusti'>\n",
      "<Record a.name='Rolfe Kanefsky'>\n",
      "<Record a.name='Shane Felux'>\n",
      "<Record a.name='Jenna Fischer'>\n",
      "<Record a.name='Ryan Bergmann'>\n",
      "<Record a.name='Ron Howard'>\n",
      "<Record a.name='Ice Cube'>\n",
      "<Record a.name='Albert Dupontel'>\n"
     ]
    }
   ],
   "source": [
    "result = transaction.run(\"\"\"\n",
    "MATCH (a:Person)-[:DIRECTED]->(m:Movie)<-[:ACTS_IN]-(a:Person)\n",
    "RETURN DISTINCT a.name\n",
    ";\"\"\")\n",
    "for record in result:\n",
    "    print (record)"
   ]
  },
  {
   "cell_type": "markdown",
   "metadata": {},
   "source": [
    "__Q5) List acctors who acted in more than 50 movies, ordered by the number of the movies they acted in.__"
   ]
  },
  {
   "cell_type": "code",
   "execution_count": 6,
   "metadata": {},
   "outputs": [
    {
     "name": "stdout",
     "output_type": "stream",
     "text": [
      "<Record a.name='Gérard Depardieu' length(movies)=52>\n",
      "<Record a.name='Marisa Mell' length(movies)=52>\n",
      "<Record a.name='Robert De Niro' length(movies)=52>\n",
      "<Record a.name='Armin Mueller-Stahl' length(movies)=56>\n",
      "<Record a.name='Samuel L. Jackson' length(movies)=61>\n",
      "<Record a.name='Claude Jade' length(movies)=71>\n"
     ]
    }
   ],
   "source": [
    "result = transaction.run(\"\"\"\n",
    "MATCH (a:Actor)-[:ACTS_IN]->(m:Movie)\n",
    "WITH a, collect(m) AS movies\n",
    "WHERE length(movies) >= 50\n",
    "RETURN a.name, length(movies)\n",
    "ORDER BY length(movies)\n",
    ";\"\"\")\n",
    "for record in result:\n",
    "    print (record)"
   ]
  },
  {
   "cell_type": "markdown",
   "metadata": {},
   "source": [
    "### Tasks\n",
    "__T1) Find the actor named \"Tom Hanks\".__"
   ]
  },
  {
   "cell_type": "code",
   "execution_count": null,
   "metadata": {
    "collapsed": true
   },
   "outputs": [],
   "source": []
  },
  {
   "cell_type": "markdown",
   "metadata": {},
   "source": [
    "__T2) Find the movie with title \"Avatar\".__"
   ]
  },
  {
   "cell_type": "code",
   "execution_count": null,
   "metadata": {
    "collapsed": true
   },
   "outputs": [],
   "source": []
  },
  {
   "cell_type": "markdown",
   "metadata": {},
   "source": [
    "__T3) Find movies released in the 1990s.__"
   ]
  },
  {
   "cell_type": "code",
   "execution_count": null,
   "metadata": {
    "collapsed": true
   },
   "outputs": [],
   "source": []
  },
  {
   "cell_type": "markdown",
   "metadata": {},
   "source": [
    "__T4) List all Tom Hanks movies.__"
   ]
  },
  {
   "cell_type": "code",
   "execution_count": null,
   "metadata": {
    "collapsed": true
   },
   "outputs": [],
   "source": []
  },
  {
   "cell_type": "markdown",
   "metadata": {},
   "source": [
    "__T5) Who directed \"Avatar\"?__"
   ]
  },
  {
   "cell_type": "code",
   "execution_count": null,
   "metadata": {
    "collapsed": true
   },
   "outputs": [],
   "source": []
  },
  {
   "cell_type": "markdown",
   "metadata": {
    "collapsed": true
   },
   "source": [
    "__T6) Tom Hanks' co-actors.__"
   ]
  },
  {
   "cell_type": "code",
   "execution_count": null,
   "metadata": {
    "collapsed": true
   },
   "outputs": [],
   "source": []
  },
  {
   "cell_type": "markdown",
   "metadata": {
    "collapsed": true
   },
   "source": [
    "__T7) How people are related to \"Avatar\".__"
   ]
  },
  {
   "cell_type": "code",
   "execution_count": null,
   "metadata": {
    "collapsed": true
   },
   "outputs": [],
   "source": []
  },
  {
   "cell_type": "markdown",
   "metadata": {
    "collapsed": true
   },
   "source": [
    "__T8) Extend Tom Hanks co-actors, to find co-co-actors who haven't worked with Tom Hanks.__"
   ]
  },
  {
   "cell_type": "code",
   "execution_count": null,
   "metadata": {
    "collapsed": true
   },
   "outputs": [],
   "source": []
  },
  {
   "cell_type": "markdown",
   "metadata": {
    "collapsed": true
   },
   "source": [
    "__T9) Find someone to introduce Tom Hanks to Tom Cruise.__"
   ]
  },
  {
   "cell_type": "code",
   "execution_count": null,
   "metadata": {
    "collapsed": true
   },
   "outputs": [],
   "source": []
  },
  {
   "cell_type": "markdown",
   "metadata": {},
   "source": [
    "__Let's close the session and the transaction.__"
   ]
  },
  {
   "cell_type": "code",
   "execution_count": 7,
   "metadata": {
    "collapsed": true
   },
   "outputs": [],
   "source": [
    "transaction.close()\n",
    "session.close()"
   ]
  }
 ],
 "metadata": {
  "anaconda-cloud": {},
  "kernelspec": {
   "display_name": "Python 3",
   "language": "python",
   "name": "python3"
  },
  "language_info": {
   "codemirror_mode": {
    "name": "ipython",
    "version": 3
   },
   "file_extension": ".py",
   "mimetype": "text/x-python",
   "name": "python",
   "nbconvert_exporter": "python",
   "pygments_lexer": "ipython3",
   "version": "3.6.1"
  }
 },
 "nbformat": 4,
 "nbformat_minor": 1
}
